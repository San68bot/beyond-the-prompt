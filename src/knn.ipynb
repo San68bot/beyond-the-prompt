{
 "cells": [
  {
   "cell_type": "code",
   "execution_count": 8,
   "id": "initial_id",
   "metadata": {
    "ExecuteTime": {
     "end_time": "2025-04-27T18:18:59.383052Z",
     "start_time": "2025-04-27T18:18:59.367541Z"
    },
    "collapsed": true
   },
   "outputs": [],
   "source": [
    "# -------------------------------\n",
    "# Imports\n",
    "# -------------------------------\n",
    "import pandas as pd\n",
    "from sklearn.model_selection import train_test_split\n",
    "from sklearn.preprocessing import StandardScaler\n",
    "from sklearn.neighbors import KNeighborsClassifier\n",
    "from sklearn.metrics import accuracy_score, classification_report, confusion_matrix"
   ]
  },
  {
   "cell_type": "code",
   "execution_count": 5,
   "id": "60066cdc9dcfafc9",
   "metadata": {
    "ExecuteTime": {
     "end_time": "2025-04-27T18:18:59.429082Z",
     "start_time": "2025-04-27T18:18:59.396559Z"
    }
   },
   "outputs": [],
   "source": [
    "# -------------------------------\n",
    "# Loading the datasets\n",
    "# -------------------------------\n",
    "deepseek = pd.read_csv(\"deepseek_data.csv\")\n",
    "chatgpt = pd.read_csv(\"chatgpt_data.csv\")"
   ]
  },
  {
   "cell_type": "code",
   "execution_count": 6,
   "id": "8a62a624330247e1",
   "metadata": {
    "ExecuteTime": {
     "end_time": "2025-04-27T18:18:59.770660Z",
     "start_time": "2025-04-27T18:18:59.742641Z"
    }
   },
   "outputs": [
    {
     "name": "stdout",
     "output_type": "stream",
     "text": [
      "Initial data preview:\n",
      "   Date  Month_Num AI_Platform  Active_Users  Churned_Users  Daily_Churn_Rate  \\\n",
      "0  2024          9     ChatGPT        500000          25000              0.05   \n",
      "1  2024          9     ChatGPT        500000          25000              0.05   \n",
      "2  2024          9     ChatGPT        500000          25000              0.05   \n",
      "3  2024          9     ChatGPT        500000          25000              0.05   \n",
      "4  2024         12     ChatGPT        350000          17500              0.05   \n",
      "\n",
      "  Query_Type  Input_Text_Length  Response_Tokens        Topic_Category  ...  \\\n",
      "0    General                  7              280  Professional Writing  ...   \n",
      "1    General                  7               80      Content Creation  ...   \n",
      "2    General                  8              131        Best Practices  ...   \n",
      "3    General                  7              426      Content Creation  ...   \n",
      "4    General                  6              344             Education  ...   \n",
      "\n",
      "   Session_Duration_sec     Device_Type  Language Response_Accuracy  \\\n",
      "0                    40          Mobile        es            0.7842   \n",
      "1                    24  Laptop/Desktop        zh            0.8194   \n",
      "2                    34          Mobile        en            0.8090   \n",
      "3                    18          Mobile        fr            0.8233   \n",
      "4                    19          Mobile        en            0.6709   \n",
      "\n",
      "  Response_Speed_sec  Response_Time_Category  Correction_Needed  \\\n",
      "0               3.30                Standard                  0   \n",
      "1               3.28                Standard                  1   \n",
      "2               3.07                Standard                  0   \n",
      "3               3.06                Standard                  0   \n",
      "4               3.78                Standard                  0   \n",
      "\n",
      "  User_Return_Frequency  Customer_Support_Interactions  \\\n",
      "0                     6                              2   \n",
      "1                     2                              2   \n",
      "2                     2                              0   \n",
      "3                     9                              0   \n",
      "4                     5                              1   \n",
      "\n",
      "                                         Region  \n",
      "0  Antarctica (the territory South of 60 deg S)  \n",
      "1                                       Ukraine  \n",
      "2                                       Grenada  \n",
      "3                                        Guyana  \n",
      "4                                     Sri Lanka  \n",
      "\n",
      "[5 rows x 22 columns] \n",
      "\n",
      "Dataframe Info:\n",
      "<class 'pandas.core.frame.DataFrame'>\n",
      "RangeIndex: 4894 entries, 0 to 4893\n",
      "Data columns (total 22 columns):\n",
      " #   Column                         Non-Null Count  Dtype  \n",
      "---  ------                         --------------  -----  \n",
      " 0   Date                           4894 non-null   int64  \n",
      " 1   Month_Num                      4894 non-null   int64  \n",
      " 2   AI_Platform                    4894 non-null   object \n",
      " 3   Active_Users                   4894 non-null   int64  \n",
      " 4   Churned_Users                  4894 non-null   int64  \n",
      " 5   Daily_Churn_Rate               4894 non-null   float64\n",
      " 6   Query_Type                     4894 non-null   object \n",
      " 7   Input_Text_Length              4894 non-null   int64  \n",
      " 8   Response_Tokens                4894 non-null   int64  \n",
      " 9   Topic_Category                 4894 non-null   object \n",
      " 10  User_Rating                    4894 non-null   int64  \n",
      " 11  User_Experience_Score          4894 non-null   float64\n",
      " 12  Session_Duration_sec           4894 non-null   int64  \n",
      " 13  Device_Type                    4894 non-null   object \n",
      " 14  Language                       4894 non-null   object \n",
      " 15  Response_Accuracy              4894 non-null   float64\n",
      " 16  Response_Speed_sec             4894 non-null   float64\n",
      " 17  Response_Time_Category         4894 non-null   object \n",
      " 18  Correction_Needed              4894 non-null   int64  \n",
      " 19  User_Return_Frequency          4894 non-null   int64  \n",
      " 20  Customer_Support_Interactions  4894 non-null   int64  \n",
      " 21  Region                         4894 non-null   object \n",
      "dtypes: float64(4), int64(11), object(7)\n",
      "memory usage: 841.3+ KB\n",
      "None \n",
      "\n",
      "Dataframe Shape:\n",
      "(4894, 22) \n",
      "\n"
     ]
    }
   ],
   "source": [
    "# -------------------------------\n",
    "# Initial Data Inspection\n",
    "# -------------------------------\n",
    "print(\"Initial data preview:\")\n",
    "print(chatgpt.head(), \"\\n\")\n",
    "\n",
    "print(\"Dataframe Info:\")\n",
    "print(chatgpt.info(), \"\\n\")\n",
    "\n",
    "print(\"Dataframe Shape:\")\n",
    "print(chatgpt.shape, \"\\n\")\n"
   ]
  },
  {
   "cell_type": "code",
   "execution_count": 13,
   "id": "1a88d887992e5c8e",
   "metadata": {
    "ExecuteTime": {
     "end_time": "2025-04-27T18:19:01.927480Z",
     "start_time": "2025-04-27T18:18:59.816155Z"
    }
   },
   "outputs": [
    {
     "name": "stdout",
     "output_type": "stream",
     "text": [
      "Accuracy: 0.99861447869761\n",
      "\n",
      "Classification Report:\n",
      "               precision    recall  f1-score   support\n",
      "\n",
      "           0       1.00      1.00      1.00      1469\n",
      "           1       1.00      1.00      1.00      1418\n",
      "\n",
      "    accuracy                           1.00      2887\n",
      "   macro avg       1.00      1.00      1.00      2887\n",
      "weighted avg       1.00      1.00      1.00      2887\n",
      "\n",
      "\n",
      "Confusion Matrix:\n",
      " [[1469    0]\n",
      " [   4 1414]]\n"
     ]
    }
   ],
   "source": [
    "chatgpt['Label'] = 0\n",
    "deepseek['Label'] = 1\n",
    "\n",
    "data = pd.concat([chatgpt, deepseek], ignore_index=True)\n",
    "data = pd.get_dummies(data, drop_first=True)\n",
    "\n",
    "X = data.drop('Label', axis=1)\n",
    "y = data['Label']\n",
    "\n",
    "scaler = StandardScaler()\n",
    "X = scaler.fit_transform(X)\n",
    "\n",
    "X_train, X_test, y_train, y_test = train_test_split(\n",
    "    X, y, test_size=0.3, random_state=42, stratify=y\n",
    ")\n",
    "\n",
    "knn = KNeighborsClassifier(n_neighbors=5)\n",
    "knn.fit(X_train, y_train)\n",
    "\n",
    "y_pred = knn.predict(X_test)\n",
    "\n",
    "print(\"Accuracy:\", accuracy_score(y_test, y_pred))\n",
    "print(\"\\nClassification Report:\\n\", classification_report(y_test, y_pred))\n",
    "print(\"\\nConfusion Matrix:\\n\", confusion_matrix(y_test, y_pred))"
   ]
  }
 ],
 "metadata": {
  "kernelspec": {
   "display_name": "base",
   "language": "python",
   "name": "python3"
  },
  "language_info": {
   "codemirror_mode": {
    "name": "ipython",
    "version": 3
   },
   "file_extension": ".py",
   "mimetype": "text/x-python",
   "name": "python",
   "nbconvert_exporter": "python",
   "pygments_lexer": "ipython3",
   "version": "3.11.5"
  }
 },
 "nbformat": 4,
 "nbformat_minor": 5
}
