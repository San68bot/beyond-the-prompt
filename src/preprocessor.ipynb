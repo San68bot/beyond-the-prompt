{
 "cells": [
  {
   "cell_type": "code",
   "id": "initial_id",
   "metadata": {
    "collapsed": true,
    "ExecuteTime": {
     "end_time": "2025-04-15T17:30:07.242998Z",
     "start_time": "2025-04-15T17:30:07.232871Z"
    }
   },
   "source": [
    "# -------------------------------\n",
    "# Imports\n",
    "# -------------------------------\n",
    "import os\n",
    "import pandas as pd\n",
    "import matplotlib.pyplot as plt\n",
    "from sklearn.preprocessing import StandardScaler"
   ],
   "outputs": [],
   "execution_count": 22
  },
  {
   "metadata": {
    "ExecuteTime": {
     "end_time": "2025-04-15T17:30:07.274850Z",
     "start_time": "2025-04-15T17:30:07.247103Z"
    }
   },
   "cell_type": "code",
   "source": [
    "# -------------------------------\n",
    "# Loading the dataset\n",
    "# -------------------------------\n",
    "df = pd.read_csv(os.path.join(os.getcwd(), \"..\", \"data\", \"raw\", \"deepseek_vs_chatgpt.csv\"))"
   ],
   "id": "60066cdc9dcfafc9",
   "outputs": [],
   "execution_count": 23
  },
  {
   "metadata": {
    "ExecuteTime": {
     "end_time": "2025-04-15T17:30:07.322092Z",
     "start_time": "2025-04-15T17:30:07.306767Z"
    }
   },
   "cell_type": "code",
   "source": [
    "# -------------------------------\n",
    "# Initial Data Inspection\n",
    "# -------------------------------\n",
    "print(\"Initial data preview:\")\n",
    "print(df.head(), \"\\n\")\n",
    "\n",
    "print(\"Dataframe Info:\")\n",
    "print(df.info(), \"\\n\")\n",
    "\n",
    "print(\"Dataframe Shape:\")\n",
    "print(df.shape, \"\\n\")\n"
   ],
   "id": "8a62a624330247e1",
   "outputs": [
    {
     "name": "stdout",
     "output_type": "stream",
     "text": [
      "Initial data preview:\n",
      "         Date  Month_Num   Weekday AI_Platform   AI_Model_Version  \\\n",
      "0  2024-09-21          9  Saturday     ChatGPT        GPT-4-turbo   \n",
      "1  2024-09-21          9  Saturday     ChatGPT        GPT-4-turbo   \n",
      "2  2024-09-21          9  Saturday     ChatGPT        GPT-4-turbo   \n",
      "3  2024-09-21          9  Saturday     ChatGPT        GPT-4-turbo   \n",
      "4  2024-05-16          5  Thursday    DeepSeek  DeepSeek-Chat 1.5   \n",
      "\n",
      "   Active_Users  New_Users  Churned_Users  Daily_Churn_Rate  Retention_Rate  \\\n",
      "0        500000      25000          25000              0.05            0.95   \n",
      "1        500000      25000          25000              0.05            0.95   \n",
      "2        500000      25000          25000              0.05            0.95   \n",
      "3        500000      25000          25000              0.05            0.95   \n",
      "4       1700000     170000          34000              0.02            0.95   \n",
      "\n",
      "   ... Session_Duration_sec     Device_Type Language  Response_Accuracy  \\\n",
      "0  ...                   40          Mobile       es             0.7842   \n",
      "1  ...                   24  Laptop/Desktop       zh             0.8194   \n",
      "2  ...                   34          Mobile       en             0.8090   \n",
      "3  ...                   18          Mobile       fr             0.8233   \n",
      "4  ...                   10          Mobile       de             0.9366   \n",
      "\n",
      "   Response_Speed_sec Response_Time_Category  Correction_Needed  \\\n",
      "0                3.30               Standard                  0   \n",
      "1                3.28               Standard                  1   \n",
      "2                3.07               Standard                  0   \n",
      "3                3.06               Standard                  0   \n",
      "4                1.48                   Fast                  0   \n",
      "\n",
      "   User_Return_Frequency  Customer_Support_Interactions  \\\n",
      "0                      6                              2   \n",
      "1                      2                              2   \n",
      "2                      2                              0   \n",
      "3                      9                              0   \n",
      "4                      9                              3   \n",
      "\n",
      "                                         Region  \n",
      "0  Antarctica (the territory South of 60 deg S)  \n",
      "1                                       Ukraine  \n",
      "2                                       Grenada  \n",
      "3                                        Guyana  \n",
      "4                                         India  \n",
      "\n",
      "[5 rows x 28 columns] \n",
      "\n",
      "Dataframe Info:\n",
      "<class 'pandas.core.frame.DataFrame'>\n",
      "RangeIndex: 10000 entries, 0 to 9999\n",
      "Data columns (total 28 columns):\n",
      " #   Column                         Non-Null Count  Dtype  \n",
      "---  ------                         --------------  -----  \n",
      " 0   Date                           10000 non-null  object \n",
      " 1   Month_Num                      10000 non-null  int64  \n",
      " 2   Weekday                        10000 non-null  object \n",
      " 3   AI_Platform                    10000 non-null  object \n",
      " 4   AI_Model_Version               10000 non-null  object \n",
      " 5   Active_Users                   10000 non-null  int64  \n",
      " 6   New_Users                      10000 non-null  int64  \n",
      " 7   Churned_Users                  10000 non-null  int64  \n",
      " 8   Daily_Churn_Rate               10000 non-null  float64\n",
      " 9   Retention_Rate                 10000 non-null  float64\n",
      " 10  User_ID                        10000 non-null  object \n",
      " 11  Query_Type                     10000 non-null  object \n",
      " 12  Input_Text                     10000 non-null  object \n",
      " 13  Input_Text_Length              10000 non-null  int64  \n",
      " 14  Response_Tokens                10000 non-null  int64  \n",
      " 15  Topic_Category                 10000 non-null  object \n",
      " 16  User_Rating                    10000 non-null  int64  \n",
      " 17  User_Experience_Score          10000 non-null  float64\n",
      " 18  Session_Duration_sec           10000 non-null  int64  \n",
      " 19  Device_Type                    10000 non-null  object \n",
      " 20  Language                       10000 non-null  object \n",
      " 21  Response_Accuracy              9621 non-null   float64\n",
      " 22  Response_Speed_sec             10000 non-null  float64\n",
      " 23  Response_Time_Category         10000 non-null  object \n",
      " 24  Correction_Needed              10000 non-null  int64  \n",
      " 25  User_Return_Frequency          10000 non-null  int64  \n",
      " 26  Customer_Support_Interactions  10000 non-null  int64  \n",
      " 27  Region                         10000 non-null  object \n",
      "dtypes: float64(5), int64(11), object(12)\n",
      "memory usage: 2.1+ MB\n",
      "None \n",
      "\n",
      "Dataframe Shape:\n",
      "(10000, 28) \n",
      "\n"
     ]
    }
   ],
   "execution_count": 24
  },
  {
   "metadata": {
    "ExecuteTime": {
     "end_time": "2025-04-15T17:30:07.384330Z",
     "start_time": "2025-04-15T17:30:07.339947Z"
    }
   },
   "cell_type": "code",
   "source": [
    "# -------------------------------\n",
    "# Data Cleaning\n",
    "# -------------------------------\n",
    "\n",
    "duplicate_count = df.duplicated().sum()\n",
    "print(f\"Number of duplicate rows found: {duplicate_count}\")\n",
    "df = df.drop_duplicates()\n",
    "\n",
    "print(\"Missing values per column before cleaning:\")\n",
    "print(df.isnull().sum(), \"\\n\")\n",
    "\n",
    "df = df.dropna()\n",
    "print(\"Missing values per column after dropping rows with nulls:\")\n",
    "print(df.isnull().sum(), \"\\n\")\n",
    "\n",
    "print(\"Dataframe shape after cleaning:\")\n",
    "print(df.shape, \"\\n\")"
   ],
   "id": "1a88d887992e5c8e",
   "outputs": [
    {
     "name": "stdout",
     "output_type": "stream",
     "text": [
      "Number of duplicate rows found: 0\n",
      "Missing values per column before cleaning:\n",
      "Date                               0\n",
      "Month_Num                          0\n",
      "Weekday                            0\n",
      "AI_Platform                        0\n",
      "AI_Model_Version                   0\n",
      "Active_Users                       0\n",
      "New_Users                          0\n",
      "Churned_Users                      0\n",
      "Daily_Churn_Rate                   0\n",
      "Retention_Rate                     0\n",
      "User_ID                            0\n",
      "Query_Type                         0\n",
      "Input_Text                         0\n",
      "Input_Text_Length                  0\n",
      "Response_Tokens                    0\n",
      "Topic_Category                     0\n",
      "User_Rating                        0\n",
      "User_Experience_Score              0\n",
      "Session_Duration_sec               0\n",
      "Device_Type                        0\n",
      "Language                           0\n",
      "Response_Accuracy                379\n",
      "Response_Speed_sec                 0\n",
      "Response_Time_Category             0\n",
      "Correction_Needed                  0\n",
      "User_Return_Frequency              0\n",
      "Customer_Support_Interactions      0\n",
      "Region                             0\n",
      "dtype: int64 \n",
      "\n",
      "Missing values per column after dropping rows with nulls:\n",
      "Date                             0\n",
      "Month_Num                        0\n",
      "Weekday                          0\n",
      "AI_Platform                      0\n",
      "AI_Model_Version                 0\n",
      "Active_Users                     0\n",
      "New_Users                        0\n",
      "Churned_Users                    0\n",
      "Daily_Churn_Rate                 0\n",
      "Retention_Rate                   0\n",
      "User_ID                          0\n",
      "Query_Type                       0\n",
      "Input_Text                       0\n",
      "Input_Text_Length                0\n",
      "Response_Tokens                  0\n",
      "Topic_Category                   0\n",
      "User_Rating                      0\n",
      "User_Experience_Score            0\n",
      "Session_Duration_sec             0\n",
      "Device_Type                      0\n",
      "Language                         0\n",
      "Response_Accuracy                0\n",
      "Response_Speed_sec               0\n",
      "Response_Time_Category           0\n",
      "Correction_Needed                0\n",
      "User_Return_Frequency            0\n",
      "Customer_Support_Interactions    0\n",
      "Region                           0\n",
      "dtype: int64 \n",
      "\n",
      "Dataframe shape after cleaning:\n",
      "(9621, 28) \n",
      "\n"
     ]
    }
   ],
   "execution_count": 25
  },
  {
   "metadata": {
    "ExecuteTime": {
     "end_time": "2025-04-15T17:30:07.416224Z",
     "start_time": "2025-04-15T17:30:07.402058Z"
    }
   },
   "cell_type": "code",
   "source": [
    "# -------------------------------\n",
    "# Data Type Conversion for Specific Columns\n",
    "# -------------------------------\n",
    "numeric_cols = ['Response_Accuracy', 'Response_Speed_sec', 'User_Rating', 'User_Experience_Score']\n",
    "\n",
    "for col in numeric_cols:\n",
    "    if col in df.columns:\n",
    "        df[col] = pd.to_numeric(df[col], errors='coerce')  # Convert to numeric, set errors to NaN\n",
    "\n",
    "# Drop rows where conversion to numeric has produced NaN values for the specified columns\n",
    "df = df.dropna(subset=numeric_cols)\n",
    "print(\"Data types after conversion:\")\n",
    "df.dtypes"
   ],
   "id": "e772d48932aafc35",
   "outputs": [
    {
     "name": "stdout",
     "output_type": "stream",
     "text": [
      "Data types after conversion:\n"
     ]
    },
    {
     "data": {
      "text/plain": [
       "Date                              object\n",
       "Month_Num                          int64\n",
       "Weekday                           object\n",
       "AI_Platform                       object\n",
       "AI_Model_Version                  object\n",
       "Active_Users                       int64\n",
       "New_Users                          int64\n",
       "Churned_Users                      int64\n",
       "Daily_Churn_Rate                 float64\n",
       "Retention_Rate                   float64\n",
       "User_ID                           object\n",
       "Query_Type                        object\n",
       "Input_Text                        object\n",
       "Input_Text_Length                  int64\n",
       "Response_Tokens                    int64\n",
       "Topic_Category                    object\n",
       "User_Rating                        int64\n",
       "User_Experience_Score            float64\n",
       "Session_Duration_sec               int64\n",
       "Device_Type                       object\n",
       "Language                          object\n",
       "Response_Accuracy                float64\n",
       "Response_Speed_sec               float64\n",
       "Response_Time_Category            object\n",
       "Correction_Needed                  int64\n",
       "User_Return_Frequency              int64\n",
       "Customer_Support_Interactions      int64\n",
       "Region                            object\n",
       "dtype: object"
      ]
     },
     "execution_count": 26,
     "metadata": {},
     "output_type": "execute_result"
    }
   ],
   "execution_count": 26
  },
  {
   "metadata": {
    "ExecuteTime": {
     "end_time": "2025-04-15T17:30:07.528664Z",
     "start_time": "2025-04-15T17:30:07.486898Z"
    }
   },
   "cell_type": "code",
   "source": [
    "# -------------------------------\n",
    "# Calculate Summary Statistics for Specific Numeric Columns\n",
    "# -------------------------------\n",
    "model_summary = df.groupby('AI_Model_Version')[numeric_cols].agg(['mean', 'std', 'min', 'max'])\n",
    "print(\"Summary statistics by Model:\")\n",
    "model_summary"
   ],
   "id": "ce587fe8f2c0a58a",
   "outputs": [
    {
     "name": "stdout",
     "output_type": "stream",
     "text": [
      "Summary statistics by Model:\n"
     ]
    },
    {
     "data": {
      "text/plain": [
       "                  Response_Accuracy                            \\\n",
       "                               mean       std     min     max   \n",
       "AI_Model_Version                                                \n",
       "DeepSeek-Chat 1.5          0.899684  0.040618  0.8055  0.9972   \n",
       "GPT-4-turbo                0.802574  0.064646  0.6542  0.9467   \n",
       "\n",
       "                  Response_Speed_sec                       User_Rating  \\\n",
       "                                mean       std   min   max        mean   \n",
       "AI_Model_Version                                                         \n",
       "DeepSeek-Chat 1.5           1.234760  0.447468  0.33  2.18    4.802412   \n",
       "GPT-4-turbo                 3.442135  0.870924  1.82  5.19    3.994892   \n",
       "\n",
       "                                    User_Experience_Score                  \\\n",
       "                        std min max                  mean       std   min   \n",
       "AI_Model_Version                                                            \n",
       "DeepSeek-Chat 1.5  0.398222   4   5              2.034912  0.180626  1.54   \n",
       "GPT-4-turbo        0.769710   3   5              1.229591  0.355456  0.48   \n",
       "\n",
       "                         \n",
       "                    max  \n",
       "AI_Model_Version         \n",
       "DeepSeek-Chat 1.5  2.28  \n",
       "GPT-4-turbo        1.95  "
      ],
      "text/html": [
       "<div>\n",
       "<style scoped>\n",
       "    .dataframe tbody tr th:only-of-type {\n",
       "        vertical-align: middle;\n",
       "    }\n",
       "\n",
       "    .dataframe tbody tr th {\n",
       "        vertical-align: top;\n",
       "    }\n",
       "\n",
       "    .dataframe thead tr th {\n",
       "        text-align: left;\n",
       "    }\n",
       "\n",
       "    .dataframe thead tr:last-of-type th {\n",
       "        text-align: right;\n",
       "    }\n",
       "</style>\n",
       "<table border=\"1\" class=\"dataframe\">\n",
       "  <thead>\n",
       "    <tr>\n",
       "      <th></th>\n",
       "      <th colspan=\"4\" halign=\"left\">Response_Accuracy</th>\n",
       "      <th colspan=\"4\" halign=\"left\">Response_Speed_sec</th>\n",
       "      <th colspan=\"4\" halign=\"left\">User_Rating</th>\n",
       "      <th colspan=\"4\" halign=\"left\">User_Experience_Score</th>\n",
       "    </tr>\n",
       "    <tr>\n",
       "      <th></th>\n",
       "      <th>mean</th>\n",
       "      <th>std</th>\n",
       "      <th>min</th>\n",
       "      <th>max</th>\n",
       "      <th>mean</th>\n",
       "      <th>std</th>\n",
       "      <th>min</th>\n",
       "      <th>max</th>\n",
       "      <th>mean</th>\n",
       "      <th>std</th>\n",
       "      <th>min</th>\n",
       "      <th>max</th>\n",
       "      <th>mean</th>\n",
       "      <th>std</th>\n",
       "      <th>min</th>\n",
       "      <th>max</th>\n",
       "    </tr>\n",
       "    <tr>\n",
       "      <th>AI_Model_Version</th>\n",
       "      <th></th>\n",
       "      <th></th>\n",
       "      <th></th>\n",
       "      <th></th>\n",
       "      <th></th>\n",
       "      <th></th>\n",
       "      <th></th>\n",
       "      <th></th>\n",
       "      <th></th>\n",
       "      <th></th>\n",
       "      <th></th>\n",
       "      <th></th>\n",
       "      <th></th>\n",
       "      <th></th>\n",
       "      <th></th>\n",
       "      <th></th>\n",
       "    </tr>\n",
       "  </thead>\n",
       "  <tbody>\n",
       "    <tr>\n",
       "      <th>DeepSeek-Chat 1.5</th>\n",
       "      <td>0.899684</td>\n",
       "      <td>0.040618</td>\n",
       "      <td>0.8055</td>\n",
       "      <td>0.9972</td>\n",
       "      <td>1.234760</td>\n",
       "      <td>0.447468</td>\n",
       "      <td>0.33</td>\n",
       "      <td>2.18</td>\n",
       "      <td>4.802412</td>\n",
       "      <td>0.398222</td>\n",
       "      <td>4</td>\n",
       "      <td>5</td>\n",
       "      <td>2.034912</td>\n",
       "      <td>0.180626</td>\n",
       "      <td>1.54</td>\n",
       "      <td>2.28</td>\n",
       "    </tr>\n",
       "    <tr>\n",
       "      <th>GPT-4-turbo</th>\n",
       "      <td>0.802574</td>\n",
       "      <td>0.064646</td>\n",
       "      <td>0.6542</td>\n",
       "      <td>0.9467</td>\n",
       "      <td>3.442135</td>\n",
       "      <td>0.870924</td>\n",
       "      <td>1.82</td>\n",
       "      <td>5.19</td>\n",
       "      <td>3.994892</td>\n",
       "      <td>0.769710</td>\n",
       "      <td>3</td>\n",
       "      <td>5</td>\n",
       "      <td>1.229591</td>\n",
       "      <td>0.355456</td>\n",
       "      <td>0.48</td>\n",
       "      <td>1.95</td>\n",
       "    </tr>\n",
       "  </tbody>\n",
       "</table>\n",
       "</div>"
      ]
     },
     "execution_count": 27,
     "metadata": {},
     "output_type": "execute_result"
    }
   ],
   "execution_count": 27
  },
  {
   "metadata": {
    "ExecuteTime": {
     "end_time": "2025-04-15T17:34:03.799815Z",
     "start_time": "2025-04-15T17:34:03.673243Z"
    }
   },
   "cell_type": "code",
   "source": [
    "# -------------------------------\n",
    "# Save Preprocessed Data\n",
    "# -------------------------------'\n",
    "preprocessed_data_path = os.path.join(os.getcwd(), \"..\", \"data\", \"preprocessed\", \"preprocessed_data.csv\")\n",
    "df.to_csv(preprocessed_data_path, index=False)\n",
    "print(f\"Preprocessed data saved.\")\n",
    "\n",
    "deepseek_df = df[df['AI_Platform'] == 'DeepSeek']\n",
    "deepseek_df.to_csv(os.path.join(os.getcwd(), \"..\", \"data\", \"preprocessed\", \"deepseek_data.csv\"), index=False)\n",
    "\n",
    "chatgpt_df = df[df['AI_Platform'] == 'ChatGPT']\n",
    "chatgpt_df.to_csv(os.path.join(os.getcwd(), \"..\", \"data\", \"preprocessed\", \"chatgpt_data.csv\"), index=False)\n",
    "print(\"DeepSeek and ChatGPT data saved.\")"
   ],
   "id": "2de54c928fd50cc3",
   "outputs": [
    {
     "name": "stdout",
     "output_type": "stream",
     "text": [
      "Preprocessed data saved.\n",
      "DeepSeek and ChatGPT data saved.\n"
     ]
    }
   ],
   "execution_count": 31
  }
 ],
 "metadata": {
  "kernelspec": {
   "display_name": "Python 3",
   "language": "python",
   "name": "python3"
  },
  "language_info": {
   "codemirror_mode": {
    "name": "ipython",
    "version": 2
   },
   "file_extension": ".py",
   "mimetype": "text/x-python",
   "name": "python",
   "nbconvert_exporter": "python",
   "pygments_lexer": "ipython2",
   "version": "2.7.6"
  }
 },
 "nbformat": 4,
 "nbformat_minor": 5
}
